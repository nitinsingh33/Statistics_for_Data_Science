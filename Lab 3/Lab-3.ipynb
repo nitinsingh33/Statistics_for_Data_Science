{
 "cells": [
  {
   "cell_type": "code",
   "execution_count": 3,
   "metadata": {},
   "outputs": [
    {
     "name": "stdout",
     "output_type": "stream",
     "text": [
      "Mean of the given binomial distribution is 5.0\n",
      "Variance of the given binomial distribution is 2.5\n"
     ]
    }
   ],
   "source": [
    "import numpy as np\n",
    "import matplotlib.pyplot as plt\n",
    "from math import comb, factorial\n",
    "\n",
    "def binomial_dis(n,p):\n",
    "    x=np.arange(0,n+1)\n",
    "    pmf=[comb(n,k)*(p**k)*((1-p)**(n-k)) for k in x]\n",
    "    cdf=np.cumsum(pmf)\n",
    "    exp_x=np.sum([k*pmf[k] for k in x])\n",
    "    exp_xx=np.sum([(k**2)*pmf[k] for k in x])\n",
    "    var_x=exp_xx-exp_x**2\n",
    "    return exp_x, var_x\n",
    "n,p=10,0.5\n",
    "mean_b,var_b=binomial_dis(n,p)\n",
    "print(\"Mean of the given binomial distribution is\" ,mean_b)\n",
    "print(\"Variance of the given binomial distribution is\",var_b)"
   ]
  },
  {
   "cell_type": "code",
   "execution_count": 6,
   "metadata": {},
   "outputs": [],
   "source": [
    "def plot_distribution(x,pmf,cdf):\n",
    " plt.figure(figsize=(12,6))\n",
    "\n",
    " # Plotting of PMF\n",
    " plt.subplot(1,2,2)\n",
    " plt.stem(x,pmf)\n",
    " plt.title('PMF')\n",
    " plt.xlabel('Number of successes')\n",
    " plt.ylabel('P(X=k)')\n",
    "\n",
    " # Plotting of CDF\n",
    " plt.subplot(1,2,2)\n",
    " plt.step(x,cdf)\n",
    " plt.title(\"cdf\")\n",
    " plt.xlabel(\"Number of successes\")\n",
    " plt.ylabel(\"P(X<=k)\")\n"
   ]
  },
  {
   "cell_type": "code",
   "execution_count": null,
   "metadata": {},
   "outputs": [
    {
     "ename": "ValueError",
     "evalue": "not enough values to unpack (expected 3, got 2)",
     "output_type": "error",
     "traceback": [
      "\u001b[1;31m---------------------------------------------------------------------------\u001b[0m",
      "\u001b[1;31mValueError\u001b[0m                                Traceback (most recent call last)",
      "Cell \u001b[1;32mIn[5], line 2\u001b[0m\n\u001b[0;32m      1\u001b[0m n_b, p_b\u001b[38;5;241m=\u001b[39m\u001b[38;5;241m10\u001b[39m, \u001b[38;5;241m0.2\u001b[39m\n\u001b[1;32m----> 2\u001b[0m x_binomial, pmf_binomial, cdf_binomial \u001b[38;5;241m=\u001b[39m binomial_dis(n_b,p_b)\n\u001b[0;32m      3\u001b[0m plot_distribution(x_binomial,pmf_binomial,cdf_binomial)\n",
      "\u001b[1;31mValueError\u001b[0m: not enough values to unpack (expected 3, got 2)"
     ]
    }
   ],
   "source": [
    "n_b, p_b=10, 0.2\n",
    "x_binomial, pmf_binomial, cdf_binomial = binomial_dis(n_b,p_b)\n",
    "plot_dist ribution(x_binomial,pmf_binomial,cdf_binomial)"
   ]
  },
  {
   "cell_type": "code",
   "execution_count": 15,
   "metadata": {},
   "outputs": [],
   "source": [
    "from math import exp, factorial\n",
    "from math import exp, factorial\n",
    "import numpy as np\n",
    "def poisson_dis(lamb,n_max):\n",
    "  x=np.arange(0,n_max+1)\n",
    "  pmf = [(lamb**k)*exp(-lamb)/factorial(k) for k in x]\n",
    "  cdf = np.cumsum(pmf)\n",
    "  return x, pmf, cdf"
   ]
  },
  {
   "cell_type": "code",
   "execution_count": 16,
   "metadata": {},
   "outputs": [
    {
     "data": {
      "image/png": "[encoded data removed]",
      "text/plain": [
       "<Figure size 1200x600 with 1 Axes>"
      ]
     },
     "metadata": {},
     "output_type": "display_data"
    }
   ],
   "source": [
    "lamb, n_max=5, 20\n",
    "x_p, pmf_p, cdf_p = poisson_dis(lamb,n_max)\n",
    "plot_distribution(x_p,pmf_p,cdf_p)"
   ]
  }
 ],
 "metadata": {
  "kernelspec": {
   "display_name": "Python 3",
   "language": "python",
   "name": "python3"
  },
  "language_info": {
   "codemirror_mode": {
    "name": "ipython",
    "version": 3
   },
   "file_extension": ".py",
   "mimetype": "text/x-python",
   "name": "python",
   "nbconvert_exporter": "python",
   "pygments_lexer": "ipython3",
   "version": "3.13.0"
  }
 },
 "nbformat": 4,
 "nbformat_minor": 2
}
