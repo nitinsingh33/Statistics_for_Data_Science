{
 "cells": [
  {
   "cell_type": "code",
   "execution_count": null,
   "metadata": {},
   "outputs": [],
   "source": [
    "import numpy as np\n",
    "import matplotlib.pyplot as plt\n",
    "from math import comb, factorial\n",
    "\n",
    "def binomial_dis(n,p)\n",
    "    x=np.arange(0,n+1)\n",
    "    pmf=[comb(n,k)*(p**k)*((1-p)**(n-k)) for k in x]\n",
    "    cdf=np.cumsum(pmf)\n",
    "    exp_x=np.sum([k*pmf[k] for k in x])\n",
    "    exp_xx=np.sum([(k**2)*pmf[k]])"
   ]
  }
 ],
 "metadata": {
  "kernelspec": {
   "display_name": "Python 3",
   "language": "python",
   "name": "python3"
  },
  "language_info": {
   "name": "python",
   "version": "3.13.0"
  }
 },
 "nbformat": 4,
 "nbformat_minor": 2
}
