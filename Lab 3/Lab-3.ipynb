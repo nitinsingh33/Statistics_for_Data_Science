{
 "cells": [
  {
   "cell_type": "code",
   "execution_count": 3,
   "metadata": {},
   "outputs": [
    {
     "name": "stdout",
     "output_type": "stream",
     "text": [
      "Mean of the given binomial distribution is 5.0\n",
      "Variance of the given binomial distribution is 2.5\n"
     ]
    }
   ],
   "source": [
    "import numpy as np\n",
    "import matplotlib.pyplot as plt\n",
    "from math import comb, factorial\n",
    "\n",
    "def binomial_dis(n,p):\n",
    "    x=np.arange(0,n+1)\n",
    "    pmf=[comb(n,k)*(p**k)*((1-p)**(n-k)) for k in x]\n",
    "    cdf=np.cumsum(pmf)\n",
    "    exp_x=np.sum([k*pmf[k] for k in x])\n",
    "    exp_xx=np.sum([(k**2)*pmf[k] for k in x])\n",
    "    var_x=exp_xx-exp_x**2\n",
    "    return exp_x, var_x\n",
    "n,p=10,0.5\n",
    "mean_b,var_b=binomial_dis(n,p)\n",
    "print(\"Mean of the given binomial distribution is\" ,mean_b)\n",
    "print(\"Variance of the given binomial distribution is\",var_b)"
   ]
  },
  {
   "cell_type": "code",
   "execution_count": null,
   "metadata": {},
   "outputs": [],
   "source": [
    "def plot_distribution(x,pmf,cdf):\n",
    " plt.figure(figsize=(12,6))\n",
    "\n",
    " # Plotting of PMF\n",
    " plt.subplot(1,2,2)\n",
    " plt.stem(x,pmf)\n",
    " plt.title('PMF')\n",
    " plt.xlabel('Number of successes')\n",
    " plt.ylabel('P(X=k)')\n",
    "\n",
    "\n"
   ]
  }
 ],
 "metadata": {
  "kernelspec": {
   "display_name": "Python 3",
   "language": "python",
   "name": "python3"
  },
  "language_info": {
   "codemirror_mode": {
    "name": "ipython",
    "version": 3
   },
   "file_extension": ".py",
   "mimetype": "text/x-python",
   "name": "python",
   "nbconvert_exporter": "python",
   "pygments_lexer": "ipython3",
   "version": "3.13.0"
  }
 },
 "nbformat": 4,
 "nbformat_minor": 2
}
