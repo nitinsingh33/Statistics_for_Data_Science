{
 "cells": [
  {
   "cell_type": "code",
   "execution_count": 15,
   "metadata": {},
   "outputs": [
    {
     "name": "stdout",
     "output_type": "stream",
     "text": [
      "\"CDA201\"\n",
      "don't\n",
      "[1, 2, 'CDA', '201']\n",
      "<class 'int'>\n",
      "5\n",
      "[]\n"
     ]
    }
   ],
   "source": [
    "print('\"CDA201\"')\n",
    "print(\"don't\")\n",
    "mylist=[1,2,'CDA']\n",
    "mylist.append('201')\n",
    "print(mylist)\n",
    "mylist.insert(2,'CDA105')\n",
    "x=201\n",
    "print(type(x))\n",
    "print(len(mylist))\n",
    "del mylist[2]\n",
    "mylist.clear()\n",
    "print(mylist)\n",
    "x=input(\"Enter the element\")"
   ]
  }
 ],
 "metadata": {
  "kernelspec": {
   "display_name": "Python 3",
   "language": "python",
   "name": "python3"
  },
  "language_info": {
   "codemirror_mode": {
    "name": "ipython",
    "version": 3
   },
   "file_extension": ".py",
   "mimetype": "text/x-python",
   "name": "python",
   "nbconvert_exporter": "python",
   "pygments_lexer": "ipython3",
   "version": "3.13.0"
  }
 },
 "nbformat": 4,
 "nbformat_minor": 2
}
